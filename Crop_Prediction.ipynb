{
  "nbformat": 4,
  "nbformat_minor": 0,
  "metadata": {
    "colab": {
      "provenance": [],
      "gpuType": "T4"
    },
    "kernelspec": {
      "name": "python3",
      "display_name": "Python 3"
    },
    "language_info": {
      "name": "python"
    },
    "accelerator": "GPU"
  },
  "cells": [
    {
      "cell_type": "code",
      "execution_count": null,
      "metadata": {
        "id": "nzdMVGqrbXM-"
      },
      "outputs": [],
      "source": [
        "import pandas as pd\n",
        "import numpy as np\n",
        "import tensorflow as tf\n",
        "import matplotlib.pyplot as plt"
      ]
    },
    {
      "cell_type": "code",
      "source": [
        "from google.colab import drive\n",
        "drive.mount('/content/gdrive')"
      ],
      "metadata": {
        "id": "-A924_hCbwBj",
        "colab": {
          "base_uri": "https://localhost:8080/"
        },
        "outputId": "6f2cad1d-0cd9-4cd4-85af-47d75366dd32"
      },
      "execution_count": null,
      "outputs": [
        {
          "output_type": "stream",
          "name": "stdout",
          "text": [
            "Drive already mounted at /content/gdrive; to attempt to forcibly remount, call drive.mount(\"/content/gdrive\", force_remount=True).\n"
          ]
        }
      ]
    },
    {
      "cell_type": "code",
      "source": [
        "import os\n",
        "from PIL import Image  # Assuming you want to work with images\n",
        "\n",
        "# Define the path to your dataset\n",
        "dataset_path = '/content/gdrive/MyDrive/AllCrops'\n",
        "\n",
        "# List all folders in the dataset\n",
        "folders = os.listdir(dataset_path)\n",
        "\n",
        "# Iterate through each folder\n",
        "for folder in folders:\n",
        "    folder_path = os.path.join(dataset_path, folder)\n",
        "\n",
        "    # List all files (images) in the folder\n",
        "    files = os.listdir(folder_path)\n",
        "\n",
        "    # Iterate through each file (image) in the folder\n",
        "    for file in files:\n",
        "        file_path = os.path.join(folder_path, file)\n",
        "\n",
        "        # Do something with the file, for example, display the image"
      ],
      "metadata": {
        "id": "LxZQgUzn5X-I"
      },
      "execution_count": null,
      "outputs": []
    },
    {
      "cell_type": "code",
      "source": [
        "IMAGE_SIZE=128\n",
        "BATCH_SIZE=32\n",
        "CHANNELS=3\n",
        "EPOCHS=50"
      ],
      "metadata": {
        "id": "q2p3k1Yr7-w5"
      },
      "execution_count": null,
      "outputs": []
    },
    {
      "cell_type": "code",
      "source": [
        "from tensorflow import keras\n",
        "dataset = tf.keras.preprocessing.image_dataset_from_directory(\n",
        "    dataset_path,\n",
        "    image_size=(IMAGE_SIZE,IMAGE_SIZE),\n",
        "    batch_size=BATCH_SIZE,\n",
        "    shuffle=True\n",
        ")"
      ],
      "metadata": {
        "id": "_dFiaZqA7_0A",
        "colab": {
          "base_uri": "https://localhost:8080/"
        },
        "outputId": "218855f1-fa38-4078-aa80-9cfa03f99fc1"
      },
      "execution_count": null,
      "outputs": [
        {
          "output_type": "stream",
          "name": "stdout",
          "text": [
            "Found 1128 files belonging to 4 classes.\n"
          ]
        }
      ]
    },
    {
      "cell_type": "code",
      "source": [
        "len(dataset)"
      ],
      "metadata": {
        "id": "Jxb-TVwG8i5-",
        "colab": {
          "base_uri": "https://localhost:8080/"
        },
        "outputId": "9587db61-290c-4b72-c975-26cc9cd1d268"
      },
      "execution_count": null,
      "outputs": [
        {
          "output_type": "execute_result",
          "data": {
            "text/plain": [
              "36"
            ]
          },
          "metadata": {},
          "execution_count": 6
        }
      ]
    },
    {
      "cell_type": "code",
      "source": [
        "class_names=dataset.class_names\n",
        "class_names"
      ],
      "metadata": {
        "id": "1SJsUUxT8miV",
        "colab": {
          "base_uri": "https://localhost:8080/"
        },
        "outputId": "2c9b3e02-dca5-42cc-d864-aac84f69b8a8"
      },
      "execution_count": null,
      "outputs": [
        {
          "output_type": "execute_result",
          "data": {
            "text/plain": [
              "['Resized-Alluvial', 'Resized-Black', 'Resized-Clay', 'Resized-Red']"
            ]
          },
          "metadata": {},
          "execution_count": 7
        }
      ]
    },
    {
      "cell_type": "code",
      "source": [
        "train_size=0.8\n",
        "len(dataset)*train_size"
      ],
      "metadata": {
        "id": "vzit0Jhb8qZf",
        "colab": {
          "base_uri": "https://localhost:8080/"
        },
        "outputId": "fe5df6a3-9de3-4a29-a68c-11049ef44888"
      },
      "execution_count": null,
      "outputs": [
        {
          "output_type": "execute_result",
          "data": {
            "text/plain": [
              "28.8"
            ]
          },
          "metadata": {},
          "execution_count": 8
        }
      ]
    },
    {
      "cell_type": "code",
      "source": [
        "train_ds=dataset.take(28)"
      ],
      "metadata": {
        "id": "f_9uxcjW8tE4"
      },
      "execution_count": null,
      "outputs": []
    },
    {
      "cell_type": "code",
      "source": [
        "test_ds=dataset.skip(28)"
      ],
      "metadata": {
        "id": "5bEF4WOq81j2"
      },
      "execution_count": null,
      "outputs": []
    },
    {
      "cell_type": "code",
      "source": [
        "val_size=0.1\n",
        "len(dataset)*val_size"
      ],
      "metadata": {
        "id": "E68kV6zV9RC8",
        "colab": {
          "base_uri": "https://localhost:8080/"
        },
        "outputId": "218b7634-4416-4959-bdd2-055cf432fb8c"
      },
      "execution_count": null,
      "outputs": [
        {
          "output_type": "execute_result",
          "data": {
            "text/plain": [
              "3.6"
            ]
          },
          "metadata": {},
          "execution_count": 11
        }
      ]
    },
    {
      "cell_type": "code",
      "source": [
        "val_ds=test_ds.take(3)"
      ],
      "metadata": {
        "id": "CoF9EisZ9Yuc"
      },
      "execution_count": null,
      "outputs": []
    },
    {
      "cell_type": "code",
      "source": [
        "test_ds=test_ds.skip(3)"
      ],
      "metadata": {
        "id": "CKYef6rF9bdY"
      },
      "execution_count": null,
      "outputs": []
    },
    {
      "cell_type": "code",
      "source": [
        "def get_dataset_partition_tf(ds,train_split=0.8,test_split=0.1,val_split=0.1,shuffle=True,shuffle_size=1000):\n",
        "  ds_size=len(ds)\n",
        "  if shuffle:\n",
        "    ds=ds.shuffle(shuffle_size,seed=12)\n",
        "  train_size=int(train_split*ds_size)\n",
        "  val_size=int(val_split*ds_size)\n",
        "\n",
        "  train_ds=ds.take(train_size)\n",
        "\n",
        "  val_ds=ds.skip(train_size).take(val_size)\n",
        "  test_ds=ds.skip(train_size).skip(val_size)\n",
        "\n",
        "  return train_ds,val_ds,test_ds"
      ],
      "metadata": {
        "id": "gLse6cZJ9d_q"
      },
      "execution_count": null,
      "outputs": []
    },
    {
      "cell_type": "code",
      "source": [
        "train_ds,val_ds,test_ds=get_dataset_partition_tf(dataset)"
      ],
      "metadata": {
        "id": "JfHDGxmA9oXC"
      },
      "execution_count": null,
      "outputs": []
    },
    {
      "cell_type": "code",
      "source": [
        "len(train_ds)"
      ],
      "metadata": {
        "id": "ozdfhZ1F9wpX",
        "colab": {
          "base_uri": "https://localhost:8080/"
        },
        "outputId": "6dbf4018-7e2e-4fb9-91a5-c676098b1286"
      },
      "execution_count": null,
      "outputs": [
        {
          "output_type": "execute_result",
          "data": {
            "text/plain": [
              "28"
            ]
          },
          "metadata": {},
          "execution_count": 16
        }
      ]
    },
    {
      "cell_type": "code",
      "source": [
        "train_ds=train_ds.cache().shuffle(1000).prefetch(buffer_size=tf.data.AUTOTUNE)"
      ],
      "metadata": {
        "id": "HpyNoLA69y7k"
      },
      "execution_count": null,
      "outputs": []
    },
    {
      "cell_type": "code",
      "source": [
        "val_ds=val_ds.cache().shuffle(1000).prefetch(buffer_size=tf.data.AUTOTUNE)\n",
        "test_ds=test_ds.cache().shuffle(1000).prefetch(buffer_size=tf.data.AUTOTUNE)"
      ],
      "metadata": {
        "id": "6PGUdoD395Bd"
      },
      "execution_count": null,
      "outputs": []
    },
    {
      "cell_type": "code",
      "source": [
        "resize_and_rescale=tf.keras.Sequential([\n",
        "    keras.layers.experimental.preprocessing.Resizing(IMAGE_SIZE,IMAGE_SIZE),\n",
        "    keras.layers.experimental.preprocessing.Rescaling(1.0/255)\n",
        "]\n",
        "\n",
        ")"
      ],
      "metadata": {
        "id": "CQCrPxOh96-Y"
      },
      "execution_count": null,
      "outputs": []
    },
    {
      "cell_type": "code",
      "source": [
        "data_augmentation=tf.keras.Sequential([\n",
        "    keras.layers.experimental.preprocessing.RandomFlip(\"horizontal_and_vertical\"),\n",
        "    keras.layers.experimental.preprocessing.RandomRotation(0.2)\n",
        "])"
      ],
      "metadata": {
        "id": "FC-wyG9I98sr"
      },
      "execution_count": null,
      "outputs": []
    },
    {
      "cell_type": "code",
      "source": [
        "IMAGE_SIZE = 128\n",
        "BATCH_SIZE = 32\n",
        "CHANNELS = 3\n",
        "EPOCHS = 50\n",
        "\n",
        "from tensorflow.keras.models import Sequential\n",
        "from tensorflow.keras import layers\n",
        "\n",
        "n_classes = 4\n",
        "\n",
        "model = Sequential([\n",
        "    # Assuming resize_and_rescale and data_augmentation are properly defined\n",
        "    layers.InputLayer(input_shape=(IMAGE_SIZE, IMAGE_SIZE, CHANNELS)),\n",
        "    layers.Conv2D(32, (3, 3), activation='relu'),\n",
        "    layers.MaxPooling2D(2, 2),\n",
        "    layers.Conv2D(64, kernel_size=(3, 3), activation='relu'),\n",
        "    layers.MaxPooling2D(2, 2),\n",
        "    layers.Conv2D(64, kernel_size=(3, 3), activation='relu'),\n",
        "    layers.MaxPooling2D(2, 2),\n",
        "    layers.Conv2D(64, kernel_size=(3, 3), activation='relu'),\n",
        "    layers.Flatten(),\n",
        "    layers.Dense(64, activation='relu'),\n",
        "    layers.Dense(n_classes, activation='softmax')\n",
        "])\n",
        "\n",
        "\n",
        "model.build(input_shape=(None, IMAGE_SIZE, IMAGE_SIZE, CHANNELS))\n",
        "\n",
        "model.summary()\n"
      ],
      "metadata": {
        "id": "9k0C3Weo-BIA",
        "colab": {
          "base_uri": "https://localhost:8080/"
        },
        "outputId": "f7c9dc9e-ebcd-441b-d0e6-b88574314c17"
      },
      "execution_count": null,
      "outputs": [
        {
          "output_type": "stream",
          "name": "stdout",
          "text": [
            "Model: \"sequential_2\"\n",
            "_________________________________________________________________\n",
            " Layer (type)                Output Shape              Param #   \n",
            "=================================================================\n",
            " conv2d (Conv2D)             (None, 126, 126, 32)      896       \n",
            "                                                                 \n",
            " max_pooling2d (MaxPooling2  (None, 63, 63, 32)        0         \n",
            " D)                                                              \n",
            "                                                                 \n",
            " conv2d_1 (Conv2D)           (None, 61, 61, 64)        18496     \n",
            "                                                                 \n",
            " max_pooling2d_1 (MaxPoolin  (None, 30, 30, 64)        0         \n",
            " g2D)                                                            \n",
            "                                                                 \n",
            " conv2d_2 (Conv2D)           (None, 28, 28, 64)        36928     \n",
            "                                                                 \n",
            " max_pooling2d_2 (MaxPoolin  (None, 14, 14, 64)        0         \n",
            " g2D)                                                            \n",
            "                                                                 \n",
            " conv2d_3 (Conv2D)           (None, 12, 12, 64)        36928     \n",
            "                                                                 \n",
            " flatten (Flatten)           (None, 9216)              0         \n",
            "                                                                 \n",
            " dense (Dense)               (None, 64)                589888    \n",
            "                                                                 \n",
            " dense_1 (Dense)             (None, 4)                 260       \n",
            "                                                                 \n",
            "=================================================================\n",
            "Total params: 683396 (2.61 MB)\n",
            "Trainable params: 683396 (2.61 MB)\n",
            "Non-trainable params: 0 (0.00 Byte)\n",
            "_________________________________________________________________\n"
          ]
        }
      ]
    },
    {
      "cell_type": "code",
      "source": [
        "model.compile(\n",
        "    optimizer='adam',\n",
        "    loss=tf.keras.losses.SparseCategoricalCrossentropy(from_logits=False),\n",
        "    metrics=['accuracy']\n",
        ")"
      ],
      "metadata": {
        "id": "0ParQMf7-Nb7"
      },
      "execution_count": null,
      "outputs": []
    },
    {
      "cell_type": "code",
      "source": [
        "model.fit(\n",
        "    train_ds,\n",
        "    epochs=EPOCHS,\n",
        "    batch_size=BATCH_SIZE,\n",
        "    verbose=1,\n",
        "\n",
        "    validation_data=val_ds\n",
        ")"
      ],
      "metadata": {
        "id": "sMGgKlax4cdh",
        "colab": {
          "base_uri": "https://localhost:8080/"
        },
        "outputId": "26bbff36-b312-42bb-cefb-462e1976d09e"
      },
      "execution_count": null,
      "outputs": [
        {
          "output_type": "stream",
          "name": "stdout",
          "text": [
            "Epoch 1/50\n",
            "28/28 [==============================] - 226s 150ms/step - loss: 8.0301 - accuracy: 0.5424 - val_loss: 0.8072 - val_accuracy: 0.6354\n",
            "Epoch 2/50\n",
            "28/28 [==============================] - 1s 19ms/step - loss: 0.5526 - accuracy: 0.7913 - val_loss: 0.3152 - val_accuracy: 0.9271\n",
            "Epoch 3/50\n",
            "28/28 [==============================] - 0s 16ms/step - loss: 0.3554 - accuracy: 0.8560 - val_loss: 0.2538 - val_accuracy: 0.9688\n",
            "Epoch 4/50\n",
            "28/28 [==============================] - 0s 18ms/step - loss: 0.3111 - accuracy: 0.8873 - val_loss: 0.2837 - val_accuracy: 0.8958\n",
            "Epoch 5/50\n",
            "28/28 [==============================] - 0s 17ms/step - loss: 0.3609 - accuracy: 0.8616 - val_loss: 0.1927 - val_accuracy: 0.9583\n",
            "Epoch 6/50\n",
            "28/28 [==============================] - 0s 16ms/step - loss: 0.2490 - accuracy: 0.9107 - val_loss: 0.1380 - val_accuracy: 0.9583\n",
            "Epoch 7/50\n",
            "28/28 [==============================] - 0s 16ms/step - loss: 0.1631 - accuracy: 0.9453 - val_loss: 0.1592 - val_accuracy: 0.9583\n",
            "Epoch 8/50\n",
            "28/28 [==============================] - 0s 16ms/step - loss: 0.1430 - accuracy: 0.9576 - val_loss: 0.1562 - val_accuracy: 0.9688\n",
            "Epoch 9/50\n",
            "28/28 [==============================] - 0s 16ms/step - loss: 0.1292 - accuracy: 0.9598 - val_loss: 0.1892 - val_accuracy: 0.9271\n",
            "Epoch 10/50\n",
            "28/28 [==============================] - 0s 16ms/step - loss: 0.1257 - accuracy: 0.9632 - val_loss: 0.1017 - val_accuracy: 0.9792\n",
            "Epoch 11/50\n",
            "28/28 [==============================] - 0s 16ms/step - loss: 0.1015 - accuracy: 0.9643 - val_loss: 0.1815 - val_accuracy: 0.9583\n",
            "Epoch 12/50\n",
            "28/28 [==============================] - 0s 16ms/step - loss: 0.1146 - accuracy: 0.9632 - val_loss: 0.0898 - val_accuracy: 0.9479\n",
            "Epoch 13/50\n",
            "28/28 [==============================] - 0s 16ms/step - loss: 0.1224 - accuracy: 0.9676 - val_loss: 0.0824 - val_accuracy: 0.9896\n",
            "Epoch 14/50\n",
            "28/28 [==============================] - 0s 16ms/step - loss: 0.0696 - accuracy: 0.9766 - val_loss: 0.0605 - val_accuracy: 0.9896\n",
            "Epoch 15/50\n",
            "28/28 [==============================] - 0s 16ms/step - loss: 0.0450 - accuracy: 0.9877 - val_loss: 0.1108 - val_accuracy: 0.9896\n",
            "Epoch 16/50\n",
            "28/28 [==============================] - 0s 16ms/step - loss: 0.0375 - accuracy: 0.9855 - val_loss: 0.0921 - val_accuracy: 0.9896\n",
            "Epoch 17/50\n",
            "28/28 [==============================] - 0s 16ms/step - loss: 0.0334 - accuracy: 0.9922 - val_loss: 0.0489 - val_accuracy: 0.9792\n",
            "Epoch 18/50\n",
            "28/28 [==============================] - 0s 16ms/step - loss: 0.0327 - accuracy: 0.9888 - val_loss: 0.0421 - val_accuracy: 0.9896\n",
            "Epoch 19/50\n",
            "28/28 [==============================] - 0s 16ms/step - loss: 0.0341 - accuracy: 0.9877 - val_loss: 0.0402 - val_accuracy: 0.9896\n",
            "Epoch 20/50\n",
            "28/28 [==============================] - 0s 17ms/step - loss: 0.0376 - accuracy: 0.9888 - val_loss: 0.0616 - val_accuracy: 0.9896\n",
            "Epoch 21/50\n",
            "28/28 [==============================] - 1s 20ms/step - loss: 0.0380 - accuracy: 0.9855 - val_loss: 0.0503 - val_accuracy: 0.9896\n",
            "Epoch 22/50\n",
            "28/28 [==============================] - 1s 18ms/step - loss: 0.0289 - accuracy: 0.9888 - val_loss: 0.0662 - val_accuracy: 0.9792\n",
            "Epoch 23/50\n",
            "28/28 [==============================] - 0s 18ms/step - loss: 0.0322 - accuracy: 0.9933 - val_loss: 0.0309 - val_accuracy: 0.9896\n",
            "Epoch 24/50\n",
            "28/28 [==============================] - 1s 20ms/step - loss: 0.0170 - accuracy: 0.9933 - val_loss: 0.0612 - val_accuracy: 0.9896\n",
            "Epoch 25/50\n",
            "28/28 [==============================] - 0s 16ms/step - loss: 0.0269 - accuracy: 0.9900 - val_loss: 0.1991 - val_accuracy: 0.9896\n",
            "Epoch 26/50\n",
            "28/28 [==============================] - 0s 16ms/step - loss: 0.0302 - accuracy: 0.9933 - val_loss: 0.0673 - val_accuracy: 0.9896\n",
            "Epoch 27/50\n",
            "28/28 [==============================] - 0s 15ms/step - loss: 0.0187 - accuracy: 0.9944 - val_loss: 0.0685 - val_accuracy: 0.9896\n",
            "Epoch 28/50\n",
            "28/28 [==============================] - 0s 16ms/step - loss: 0.0179 - accuracy: 0.9922 - val_loss: 0.1222 - val_accuracy: 0.9896\n",
            "Epoch 29/50\n",
            "28/28 [==============================] - 0s 16ms/step - loss: 0.0126 - accuracy: 0.9944 - val_loss: 0.0542 - val_accuracy: 0.9896\n",
            "Epoch 30/50\n",
            "28/28 [==============================] - 0s 16ms/step - loss: 0.0101 - accuracy: 0.9955 - val_loss: 0.0372 - val_accuracy: 0.9896\n",
            "Epoch 31/50\n",
            "28/28 [==============================] - 0s 16ms/step - loss: 0.0078 - accuracy: 0.9967 - val_loss: 0.0543 - val_accuracy: 0.9896\n",
            "Epoch 32/50\n",
            "28/28 [==============================] - 0s 16ms/step - loss: 0.0125 - accuracy: 0.9944 - val_loss: 0.0933 - val_accuracy: 0.9896\n",
            "Epoch 33/50\n",
            "28/28 [==============================] - 0s 16ms/step - loss: 0.0116 - accuracy: 0.9944 - val_loss: 0.0771 - val_accuracy: 0.9896\n",
            "Epoch 34/50\n",
            "28/28 [==============================] - 0s 16ms/step - loss: 0.0089 - accuracy: 0.9944 - val_loss: 0.1004 - val_accuracy: 0.9896\n",
            "Epoch 35/50\n",
            "28/28 [==============================] - 0s 16ms/step - loss: 0.0071 - accuracy: 0.9978 - val_loss: 0.1123 - val_accuracy: 0.9896\n",
            "Epoch 36/50\n",
            "28/28 [==============================] - 0s 16ms/step - loss: 0.0096 - accuracy: 0.9944 - val_loss: 0.0788 - val_accuracy: 0.9896\n",
            "Epoch 37/50\n",
            "28/28 [==============================] - 0s 16ms/step - loss: 0.0094 - accuracy: 0.9933 - val_loss: 0.0797 - val_accuracy: 0.9896\n",
            "Epoch 38/50\n",
            "28/28 [==============================] - 0s 16ms/step - loss: 0.0071 - accuracy: 0.9978 - val_loss: 0.0538 - val_accuracy: 0.9896\n",
            "Epoch 39/50\n",
            "28/28 [==============================] - 0s 16ms/step - loss: 0.0058 - accuracy: 0.9989 - val_loss: 0.0909 - val_accuracy: 0.9896\n",
            "Epoch 40/50\n",
            "28/28 [==============================] - 0s 16ms/step - loss: 0.0093 - accuracy: 0.9967 - val_loss: 0.0914 - val_accuracy: 0.9896\n",
            "Epoch 41/50\n",
            "28/28 [==============================] - 0s 16ms/step - loss: 0.0125 - accuracy: 0.9944 - val_loss: 0.0959 - val_accuracy: 0.9896\n",
            "Epoch 42/50\n",
            "28/28 [==============================] - 0s 16ms/step - loss: 0.0119 - accuracy: 0.9955 - val_loss: 0.0974 - val_accuracy: 0.9896\n",
            "Epoch 43/50\n",
            "28/28 [==============================] - 0s 16ms/step - loss: 0.0077 - accuracy: 0.9944 - val_loss: 0.0756 - val_accuracy: 0.9896\n",
            "Epoch 44/50\n",
            "28/28 [==============================] - 0s 16ms/step - loss: 0.0066 - accuracy: 0.9967 - val_loss: 0.0754 - val_accuracy: 0.9896\n",
            "Epoch 45/50\n",
            "28/28 [==============================] - 1s 19ms/step - loss: 0.0054 - accuracy: 0.9978 - val_loss: 0.0976 - val_accuracy: 0.9896\n",
            "Epoch 46/50\n",
            "28/28 [==============================] - 1s 18ms/step - loss: 0.0504 - accuracy: 0.9844 - val_loss: 0.1234 - val_accuracy: 0.9583\n",
            "Epoch 47/50\n",
            "28/28 [==============================] - 1s 19ms/step - loss: 0.2293 - accuracy: 0.9464 - val_loss: 1.8017 - val_accuracy: 0.7396\n",
            "Epoch 48/50\n",
            "28/28 [==============================] - 1s 20ms/step - loss: 0.5964 - accuracy: 0.8002 - val_loss: 0.3754 - val_accuracy: 0.8646\n",
            "Epoch 49/50\n",
            "28/28 [==============================] - 1s 19ms/step - loss: 0.4738 - accuracy: 0.8438 - val_loss: 0.4380 - val_accuracy: 0.8229\n",
            "Epoch 50/50\n",
            "28/28 [==============================] - 0s 17ms/step - loss: 0.3506 - accuracy: 0.8917 - val_loss: 0.1517 - val_accuracy: 0.9583\n"
          ]
        },
        {
          "output_type": "execute_result",
          "data": {
            "text/plain": [
              "<keras.src.callbacks.History at 0x78a9bee400d0>"
            ]
          },
          "metadata": {},
          "execution_count": 23
        }
      ]
    },
    {
      "cell_type": "code",
      "source": [
        "dataset_path_test = '/content/gdrive/MyDrive/AllCrops-test'"
      ],
      "metadata": {
        "id": "bxEMCK9xEwIp"
      },
      "execution_count": null,
      "outputs": []
    },
    {
      "cell_type": "code",
      "source": [
        "score=model.evaluate(test_ds)"
      ],
      "metadata": {
        "id": "Kr2Ae9A2Exsj",
        "colab": {
          "base_uri": "https://localhost:8080/"
        },
        "outputId": "51443c2e-fa41-43cc-b54f-9898ff3ccd66"
      },
      "execution_count": null,
      "outputs": [
        {
          "output_type": "stream",
          "name": "stdout",
          "text": [
            "5/5 [==============================] - 3s 8ms/step - loss: 0.1563 - accuracy: 0.9625\n"
          ]
        }
      ]
    },
    {
      "cell_type": "code",
      "source": [
        "# List all folders in the dataset\n",
        "folders = os.listdir(dataset_path_test)\n",
        "\n",
        "# Iterate through each folder\n",
        "for folder in folders:\n",
        "    folder_path = os.path.join(dataset_path_test, folder)\n",
        "\n",
        "    # List all files (images) in the folder\n",
        "    files = os.listdir(folder_path)\n",
        "\n",
        "    # Iterate through each file (image) in the folder\n",
        "    for file in files:\n",
        "        file_path = os.path.join(folder_path, file)"
      ],
      "metadata": {
        "id": "17o9a5JYEzqS"
      },
      "execution_count": null,
      "outputs": []
    },
    {
      "cell_type": "code",
      "source": [
        "IMAGE_SIZE=128\n",
        "BATCH_SIZE=16\n",
        "CHANNELS=3\n",
        "EPOCHS=50"
      ],
      "metadata": {
        "id": "kNge2O1a-p63"
      },
      "execution_count": null,
      "outputs": []
    },
    {
      "cell_type": "code",
      "source": [
        "from tensorflow import keras\n",
        "test_dataset = tf.keras.preprocessing.image_dataset_from_directory(\n",
        "    dataset_path_test,\n",
        "    image_size=(IMAGE_SIZE,IMAGE_SIZE),\n",
        "    batch_size=BATCH_SIZE,\n",
        "    shuffle=True\n",
        ")"
      ],
      "metadata": {
        "id": "w-lNQtQ7K1OR",
        "colab": {
          "base_uri": "https://localhost:8080/"
        },
        "outputId": "2e97cc38-3b71-43d3-c36c-7a5ade346126"
      },
      "execution_count": null,
      "outputs": [
        {
          "output_type": "stream",
          "name": "stdout",
          "text": [
            "Found 338 files belonging to 4 classes.\n"
          ]
        }
      ]
    },
    {
      "cell_type": "code",
      "source": [
        "data_augmentation_test=tf.keras.Sequential([\n",
        "    keras.layers.experimental.preprocessing.RandomFlip(\"horizontal_and_vertical\"),\n",
        "    keras.layers.experimental.preprocessing.RandomRotation(0.2)\n",
        "])"
      ],
      "metadata": {
        "id": "nTd918O5K86z"
      },
      "execution_count": null,
      "outputs": []
    },
    {
      "cell_type": "code",
      "source": [
        "model.evaluate(test_dataset)\n",
        "import pickle"
      ],
      "metadata": {
        "id": "8ZzwM4s3LwJi",
        "colab": {
          "base_uri": "https://localhost:8080/"
        },
        "outputId": "2a294d13-4505-4c25-a973-bded48b349fd"
      },
      "execution_count": null,
      "outputs": [
        {
          "output_type": "stream",
          "name": "stdout",
          "text": [
            "22/22 [==============================] - 79s 2s/step - loss: 0.4553 - accuracy: 0.8905\n"
          ]
        }
      ]
    },
    {
      "cell_type": "code",
      "source": [
        "model.save('/content/gdrive/MyDrive/Classroom/my_model.h5')"
      ],
      "metadata": {
        "id": "q1RucXTZMQ6-"
      },
      "execution_count": null,
      "outputs": []
    },
    {
      "cell_type": "code",
      "source": [],
      "metadata": {
        "id": "t7Z-ULVaRwih"
      },
      "execution_count": null,
      "outputs": []
    }
  ]
}